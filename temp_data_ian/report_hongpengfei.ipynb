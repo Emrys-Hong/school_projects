{
 "cells": [
  {
   "cell_type": "markdown",
   "metadata": {},
   "source": [
    "# Report for 2D Project Physical World and Digital World\n",
    "\n",
    "Cohort: 04\n",
    "\n",
    "Team No.: 04\n",
    "Members:\n",
    "Edmund Chiang Jia Wei (1002699)\n",
    "Ian Lim Li Ern (1002678)\n",
    "Latasha Lenus (1003106)\n",
    "Song Zhiguo (1002290)\n",
    "Hong Pengfei (1002949)"
   ]
  },
  {
   "cell_type": "markdown",
   "metadata": {},
   "source": [
    "# Introduction\n",
    "\n",
    "Problem:\n",
    "To reduce the time taken for the thermosensor to reach thermoequilibrium with the water as much as possible while keeps the error within one second, We will use LinearRegression model provided by scikitlearn to create a predictive model. Such predictive models are useful in healthcare, trading.\n",
    "\n",
    "approach:\n",
    "we want to use the knowledge about the heat capacity and heat transfer we learned in Physical world build the mathmatical model to get the relationship between the time and the thermosensor. The equation we get by solving the mathmatical equation is Ln( (Tw-Ts) / (Tw-Tsi) ) = -time/tao. where Tw: the water temperature, Ts: sensor temperature, Tsi: initial sensor temperature( sensor temperature at t=0), tao=constant\n",
    "\n",
    "the mathmatical equation suggest that the time and Ln( (Tw-Ts) / (Tw-Tsi) ) have linear relationship. We used actual data to verify the assumption by plotting out the first 25 seconds of the the data of different water temperature.(the code can be seen in data collection).\n",
    "\n",
    "summary:\n",
    "the Tao is verified to be linear despite of small fluactuation"
   ]
  },
  {
   "cell_type": "markdown",
   "metadata": {},
   "source": [
    "# Description of Data from Experiment"
   ]
  },
  {
   "cell_type": "markdown",
   "metadata": {},
   "source": [
    "## Data Collection\n",
    "\n",
    "Describe how you collect your data and the reasoning behind such approach.\n",
    "\n",
    "How we collected our data:\n",
    "we used thermobottle and 1L water to keep the temperature of the water constant. and then we use the thermometer to measure the temperature of the water. we chose 46 sets of temperature of the water distributed evenly from 60 to 10 celsius by adding cold water inside the hot water. We make sure the start temperature of the thermosensor to be stablized at room temperature(fluactuated from 30 to 25 celsius). We put the thermosensor inside the water at time = 0. and we minimized the time interval every detection for the thermometer. Finally we crop the time of the data to be 30 seconds as we only get access of these data\n"
   ]
  },
  {
   "cell_type": "markdown",
   "metadata": {},
   "source": [
    "## Data Preparation\n",
    "\n",
    "Describe how you prepare your data. Include any codes you have here.\n",
    "The output of the data is in txt format, i first used pandas to change it into the excel format and then crop the data. we also unify the time interval for every detection, the time is around 0.962s.\n",
    "def version2():\n",
    "    path = os.getcwd()\n",
    "    dirs = os.listdir(path)\n",
    "    res = pd.DataFrame(np.arange(0.98,400,0.962),columns=['time'])\n",
    "    for file in dirs:\n",
    "        if file[-1] == 't':\n",
    "            with open(file, 'r') as f:\n",
    "                lines = f.readlines()\n",
    "                temp_data = [round(float(line.strip().split()[1]),3) for line in lines]\n",
    "                temp_data = pd.DataFrame(temp_data,columns=[file[9:12]])\n",
    "                res = pd.concat([res, temp_data], axis=1, join='outer')\n",
    "    res.to_excel('temp_ver2.xls')\n",
    "we also smooth the data using the numpy function to avoid fluactuation of the temperature\n"
   ]
  },
  {
   "cell_type": "code",
   "execution_count": null,
   "metadata": {},
   "outputs": [],
   "source": [
    "# we plot the data for Ts vs time"
   ]
  },
  {
   "cell_type": "code",
   "execution_count": null,
   "metadata": {},
   "outputs": [],
   "source": [
    "def data_visualization():\n",
    "    bunch_object = pd.read_excel('temp_ver3.xls')\n",
    "    time = bunch_object.ix[:, 'time']\n",
    "    for col in bunch_object.columns[1:]:\n",
    "\n",
    "            temp = bunch_object.ix[:,col]\n",
    "            plt.plot(time,temp,color='lightblue')\n",
    "\n",
    "    plt.show()"
   ]
  },
  {
   "cell_type": "code",
   "execution_count": null,
   "metadata": {},
   "outputs": [],
   "source": [
    "## we process the data as ( (Tw-Ts)/(Tw-Tsi) ) versus time:"
   ]
  },
  {
   "cell_type": "code",
   "execution_count": null,
   "metadata": {},
   "outputs": [],
   "source": [
    "def log_data():\n",
    "    data = pd.read_excel('temp_ver3.xls')\n",
    "    for col in data.columns[1:]:\n",
    "\n",
    "        data.ix[:,col] =  np.log( (np.float(col)/10 - np.array(data.ix[:,col]))/((np.float(col)/10)-np.array(data.ix[0,col])) )\n",
    "    data.to_excel('temp_log_ver3.xls')"
   ]
  },
  {
   "cell_type": "code",
   "execution_count": null,
   "metadata": {},
   "outputs": [],
   "source": [
    "## and we visualize the log data we plotted\n",
    "def data_visualization_log():\n",
    "    data = pd.read_excel('temp_ver3_30.xls')\n",
    "    for col in data.columns[1:]:\n",
    "\n",
    "        data.ix[:,col] =  np.log( (np.float(col)/10 - np.array(data.ix[:,col]))/((np.float(col)/10)-np.array(data.ix[0,col])) )\n",
    "    time = bunch_object.ix[:, 'time']\n",
    "    for col in bunch_object.columns[1:]:\n",
    "        temp = bunch_object.ix[:,col]\n",
    "        plt.plot(time,temp,color='lightblue')\n",
    "\n",
    "    plt.show()\n",
    "    "
   ]
  },
  {
   "cell_type": "code",
   "execution_count": null,
   "metadata": {},
   "outputs": [],
   "source": []
  },
  {
   "cell_type": "markdown",
   "metadata": {},
   "source": [
    "## Data Format\n",
    "\n",
    "Describe your data and its features. Include any codes or visualization of data."
   ]
  },
  {
   "cell_type": "markdown",
   "metadata": {},
   "source": [
    "# Training Model\n",
    "\n",
    "Describe how you train your model. Include any code and output\n",
    "we used linear regression model from scikit learn, because we can visually get from the linear regression model that Tao is constant.\n"
   ]
  },
  {
   "cell_type": "code",
   "execution_count": 1,
   "metadata": {},
   "outputs": [],
   "source": [
    "def linear_regression(x,y):\n",
    "    regr = linear_model.LinearRegression()\n",
    "    regr.fit(x,y)\n",
    "    return regr.coef_, regr.intercept_"
   ]
  },
  {
   "cell_type": "markdown",
   "metadata": {},
   "source": [
    "# Verification and Accuracy\n",
    "\n",
    "Describe how you check the accuracy of your model and its result. State any analysis you have and the steps you have taken to improve its accuracy.\n",
    "\n",
    "1. try one by one, parameters yes\n",
    "\n",
    "2. regularization\n",
    "\n",
    "3. smooth\n",
    "\n",
    "4. error term yes\n",
    "\n",
    "5. increase the dataset and delete all the error data\n"
   ]
  },
  {
   "cell_type": "markdown",
   "metadata": {},
   "source": [
    "# Testing Using Instructor's Data"
   ]
  },
  {
   "cell_type": "markdown",
   "metadata": {},
   "source": [
    "Instruction:\n",
    "\n",
    "* Store your trained model into a pickle object which can be loaded. \n",
    "* Read an excel file with the following format:\n",
    "```\n",
    "time (s)\treading\n",
    "0.00\t    25.812\n",
    "0.90\t    28.562\n",
    "1.79\t    31.875\n",
    "2.68\t    35.062\n",
    "3.55\t    37.937\n",
    "4.43\t    40.687\n",
    "5.30\t    43.25\n",
    "```\n",
    "where the first column indicates the time in seconds and the second column indicates the sensor reading in Celsius. \n",
    "* The number of rows in the instructors' data can be of any number. If your code has a minimum number of rows, your code must be able to handle and exit safely when the data provided is less than the required minimum.\n",
    "* Write a code to prepare the data for prediction.\n",
    "* Write a code to predict the final temperature.\n",
    "\n"
   ]
  },
  {
   "cell_type": "code",
   "execution_count": null,
   "metadata": {
    "collapsed": true
   },
   "outputs": [],
   "source": [
    "# write a code to load your trained model from a pickle object\n",
    "import pickle\n",
    "filename = '' # enter your pickle file name containing the model\n",
    "with open(filename,'rb') as f:\n",
    "    model = pickle.load(f)\n"
   ]
  },
  {
   "cell_type": "code",
   "execution_count": null,
   "metadata": {
    "collapsed": true
   },
   "outputs": [],
   "source": [
    "# write a code to read an excel file\n",
    "import pandas as pd\n",
    "num_test = 9\n",
    "filename = 'temp_' \n",
    "filekey = [] # instructors will key in this\n",
    "dataframe = {} # this is to store the data for different temperature, the keys are in filekey\n",
    "for idx in range(num_test):\n",
    "    dataframe[filekey[idx]] = pd.read_excel(filename+filekey[idx]+'.xlsx')\n"
   ]
  },
  {
   "cell_type": "code",
   "execution_count": null,
   "metadata": {
    "collapsed": true
   },
   "outputs": [],
   "source": [
    "# write a code to prepare the data for predicting\n",
    "def preprocess(df):\n",
    "    # use this function to extract the features from the data frame\n",
    "    pass\n",
    "\n",
    "data_test = {}\n",
    "for key in filekey:\n",
    "    data_test[key]=preprocess(dataframe[key])"
   ]
  },
  {
   "cell_type": "code",
   "execution_count": null,
   "metadata": {
    "collapsed": true
   },
   "outputs": [],
   "source": [
    "# write a code to predict the final temperature\n",
    "# store the predicted temperature in a variable called \"predicted\"\n",
    "# predicted is a dictionary where the keys are listed in filekey\n",
    "\n",
    "predicted = {}\n",
    "for key in filekey:\n",
    "    predicted[key]=model.predict(data_test[key])"
   ]
  },
  {
   "cell_type": "code",
   "execution_count": null,
   "metadata": {
    "collapsed": true
   },
   "outputs": [],
   "source": [
    "# checking accuracy\n",
    "\n",
    "# first instructor will load the actual temp from a pickle object\n",
    "import pickle\n",
    "error_d = {}\n",
    "accuracy_percent_d = {}\n",
    "\n",
    "for test in range(num_test):\n",
    "    filename = 'data_'+filekey[test]+'.pickle'\n",
    "    with open(filename,'rb') as f:\n",
    "        final_temp, worst_temp = pickle.load(f)\n",
    "\n",
    "    # then calculate the error\n",
    "    error_final = abs(final_temp-predicted[filekey[test]])\n",
    "    accuracy_final_percent = 100-error_final/final_temp*100\n",
    "    error_worst = abs(worst_temp-predicted[filekey[test]])\n",
    "    accuracy_worst_percent = 100-error_worst/worst_temp*100\n",
    "    \n",
    "    error_d[filekey[test]] = (error_final, error_worst)\n",
    "    accuracy_percent_d[filekey[test]] = (accuracy_final_percent, accuracy_worst_percent)\n",
    "\n",
    "    # displaying the error\n",
    "    print('===================================')\n",
    "    print('Testing: {}'.format(filekey[test]))\n",
    "    print('Predicted Temp: {:.2f}'.format(predicted[filekey[test]]))\n",
    "    print('Final Sensor Temp: {:.2f}, Alcohol Temp:{:.2f}'.format(final_temp, worst_temp))\n",
    "    print('Error w.r.t Final Sensor Temp: {:.2f} deg, {:.2f}% accuracy'.format(error_final, accuracy_final_percent))\n",
    "    print('Error w.r.t Alcohol Temp: {:.2f} deg, {:.2f}% accuracy'.format(error_worst, accuracy_worst_percent))\n",
    "    \n",
    "avg_final = sum([ final for final, worst in accuracy_percent_d.values()])/len(error_d.values())\n",
    "avg_worst = sum([ worst for final, worst in accuracy_percent_d.values()])/len(error_d.values())\n",
    "print('==============================')\n",
    "print('Average accuracy for final sensor temp: {:.2f}'.format(avg_final))\n",
    "print('AVerage accuracy for alcohol temp: {:.2f}'.format(avg_worst))\n"
   ]
  }
 ],
 "metadata": {
  "kernelspec": {
   "display_name": "Python 3",
   "language": "python",
   "name": "python3"
  },
  "language_info": {
   "codemirror_mode": {
    "name": "ipython",
    "version": 3
   },
   "file_extension": ".py",
   "mimetype": "text/x-python",
   "name": "python",
   "nbconvert_exporter": "python",
   "pygments_lexer": "ipython3",
   "version": "3.6.4"
  }
 },
 "nbformat": 4,
 "nbformat_minor": 2
}
