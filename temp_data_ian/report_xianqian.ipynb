{
 "cells": [
  {
   "cell_type": "markdown",
   "metadata": {},
   "source": [
    "# Report for 2D Project Physical World and Digital World\n",
    "\n",
    "Cohort: F04\n",
    "\n",
    "Team No.: 6\n",
    "\n",
    "Members:\n",
    "Ong Xiang Qian (1002646), Tan Wai Hong (1002894), Jack Ng Guang Jie (1002784), Monica Saravana (1002888), Ye Xinyi (1002868)\n"
   ]
  },
  {
   "cell_type": "markdown",
   "metadata": {},
   "source": [
    "# Introduction\n",
    "\n",
    "In this project, we are required to predict the steady state temperature of a solvent within 30s. We solve this problem by breaking it down into 2 smaller problem: How to get the actual temperature from the sensor, how to predict the steady state temperature using just time and instantaneous temperature. \n",
    "\n",
    "For the first problem, we calibrated the given temperature sensor by collecting datas on 7 known temperature using thermometer and the 7 output from the temperature sensor. \n",
    "\n",
    "Next, we plot a linear best fit line to get the conversion fomula. In our case the fomula is Y = 1.0191X -0.311, whereby Y is the calibrated temperature and X is the output from the temperature sensor.\n",
    "\n",
    "For the second problem, we decided to find the co-relationship between (instantaneous time * instantaneous temperature) and the steady state temperature. To do this, for one steady state temperature, we took 11 readings of instantaneous time and the respective instantenous temperature. E.g.:\n",
    "\n",
    " [[0.1, 20.071], [0.88, 20.071], [2.72, 17.714], [4.48, 16.949], [6.42, 16.44], [8.00, 16.058], [9.76, 15.803] , [11.52, 15.548] , [13.28, 15.358], [15.04 , 15.166], [16.8, 15.039]]\n",
    "\n",
    "The 0th index indicate the time in seconds and 1st index in indicate the temperature in celcius\n",
    "The preprocessing part multiplies the time and the temperature together and give back a list. E.g. :\n",
    "\n",
    "[2.01, 17.66, 48.18, 75.93, 105.54, 128.46, 154.24, 179.11, 203.95, 228.1, 252.66]\n",
    "\n",
    "After collecting several data of different steady state temperature, we use scikit-learn linear regression to find the coefficients for the 11 inputs.\n",
    "\n",
    "To predict the temperature: First we get 11 readings of instantaneous time and the respective instantenous temperature. Next, we multiply the coefficients together with the product of the time and respective temperature.\n",
    "\n",
    "Result: We are able to predict the temperature at < 18s consistently and get the temperature of +- 1.5 degree celcius"
   ]
  },
  {
   "cell_type": "markdown",
   "metadata": {},
   "source": [
    "# Description of Data from Experiment"
   ]
  },
  {
   "cell_type": "markdown",
   "metadata": {},
   "source": [
    "## Data Collection\n",
    "\n",
    "Our aim during the collection of data is to have a equally distributed temperature between 10 degree celcius and 60 degree celcius. In this case, we use a thermoflask and vary the temperature of the water in it to get data.\n",
    "\n",
    "For Calibration, we took the given thermometer to measure the actual temperature of the water.Next, we use the temperature sensor to get the output. This method was to ensure we get as close to the accurate tempereature reading from the temperature sensor.\n",
    "\n",
    "To build the model, we took the given thermometer to measure the actual temperature of the water as well.After which, we use the temperature sensor with calibrated values to get 11 readings of [time , output of temperature sensor]. This method is to ensure that we have enough data to make accurate model for the prediction of temperature. The actual temperature of the water (also known as label), is stored in this format :[30 , label]. It is then appended to the front of the 11 readings\n",
    "\n",
    "The underlying hypothesis is that every steady state temperature have their unique graphs. As such, they have their own unique area (instantaneous time * instantaneous temperature) along the graph.\n",
    "\n",
    "The recording only starts when the temperature sensor sense a sudden change in temperature (0.4 seconds in our case) so as to prevent negative readings.\n"
   ]
  },
  {
   "cell_type": "markdown",
   "metadata": {},
   "source": [
    "## Data Preparation\n",
    "\n",
    "For Calibration, there was no preprocessing to data needed as it is a simple best fit linear graph.\n",
    "\n",
    "For the model: For each steady state temperature, we multiply each instantanous time with the corresponding tempereature.\n",
    "\n",
    "[[0.1, 20.071], [0.88, 20.071], [2.72, 17.714], [4.48, 16.949], [6.42, 16.44], [8.00, 16.058], [9.76, 15.803] , [11.52, 15.548] , [13.28, 15.358], [15.04 , 15.166], [16.8, 15.039]]\n",
    " \n",
    " to\n",
    " \n",
    " [2.01, 17.66, 48.18, 75.93, 105.54, 128.46, 154.24, 179.11, 203.95, 228.1, 252.66]\n",
    " "
   ]
  },
  {
   "cell_type": "code",
   "execution_count": 13,
   "metadata": {},
   "outputs": [],
   "source": [
    "ls = [[[30,53.9], [0.1, 28.509], [0.981, 38.572], [2.841, 42.33], [4.701, 44.432], [6.503, 45.897], [8.363, 47.171], [10.224, 48.127], [12.021, 48.954], [13.88, 49.655], [15.744, 50.228], [17.544, 50.737]]\n",
    ",[[30,36.8], [0.1, 28.254], [0.962, 32.203], [2.825, 33.158], [4.69, 33.795], [6.483, 34.177], [8.358, 34.559], [10.165, 34.814], [12.086, 35.069], [13.955, 35.133], [15.765, 35.388], [17.638, 35.515]]\n",
    ",[[30,59.2], [0.1, 27.999], [0.982, 42.967], [2.846, 47.362], [4.664, 49.718], [6.531, 51.502], [8.342, 52.712], [10.21, 53.732], [12.028, 54.559], [13.895, 55.323], [15.703, 55.897], [17.568, 56.407]]\n",
    ",[[30,41.8], [0.1, 28.509], [0.982, 33.922], [2.843, 35.833], [4.706, 36.916], [6.503, 37.617], [8.371, 38.19], [10.182, 38.572], [12.046, 38.955], [13.863, 39.273], [15.727, 39.527], [17.592, 39.719]]\n",
    ",[[30,26.7], [0.1, 28.317], [0.957, 27.362], [2.821, 27.108], [4.687, 26.98], [6.478, 26.853], [8.341, 26.789], [10.207, 26.725], [12.0, 26.661], [13.87, 26.598], [15.682, 26.534], [17.551, 26.534]]\n",
    ",[[30,15.6], [0.1, 28.572], [0.978, 22.904], [2.841, 20.866], [4.707, 19.719], [6.498, 18.955], [8.36, 18.381], [10.224, 17.936], [12.022, 17.617], [13.886, 17.299], [15.699, 17.107], [17.568, 16.917]]\n",
    ",[[30,21.9], [0.1, 28.19], [0.961, 25.324], [2.832, 24.368], [4.644, 23.795], [6.512, 23.413], [8.323, 23.159], [10.193, 22.967], [12.001, 22.84], [13.864, 22.712], [15.685, 22.585], [17.551, 22.522]]\n",
    ",[[30,16.4], [0.1, 28.19], [0.966, 22.84], [2.833, 21.184], [4.647, 20.164], [6.512, 19.4], [8.326, 18.955], [10.189, 18.573], [12.054, 18.254], [13.846, 17.999], [15.713, 17.808], [17.53, 17.617]]\n",
    ",[[30,21.5], [0.1, 27.808], [0.98, 25.324], [2.843, 23.986], [4.708, 23.286], [6.5, 22.84], [8.365, 22.522], [10.182, 22.267], [12.051, 22.075], [13.858, 21.948], [15.723, 21.82], [17.587, 21.757]]\n",
    ",[[30,45.5], [0.1, 27.426], [0.978, 35.833], [2.848, 38.445], [4.66, 39.719], [6.525, 40.611], [8.338, 41.248], [10.206, 41.757], [12.017, 42.202], [13.884, 42.585], [15.746, 42.904], [17.536, 43.158]]\n",
    ",[[30,32.1], [0.1, 28.127], [0.985, 30.101], [2.847, 30.483], [4.711, 30.738], [6.58, 30.865], [8.451, 30.992], [10.262, 31.12], [12.127, 31.184], [13.991, 31.247], [15.789, 31.247], [17.651, 31.311]]\n",
    ",[[30,39.9], [0.1, 28.827], [0.976, 34.369], [2.944, 35.388], [4.736, 36.088], [6.598, 36.534], [8.463, 36.98], [10.254, 37.299], [12.118, 37.617], [13.937, 37.871], [15.806, 38.126], [17.623, 38.318]]\n",
    ",[[30,32.4], [0.1, 28.381], [0.956, 30.42], [2.827, 30.865], [4.63, 31.12], [6.502, 31.247], [8.311, 31.375], [10.193, 31.502], [11.997, 31.566], [13.859, 31.629], [15.671, 31.694], [17.542, 31.694]]\n",
    ",[[30,12.6], [0.1, 18.415], [0.88, 17.459], [2.64, 16.249], [4.4, 15.548], [6.24, 15.039], [8.0, 14.721] , [9.76, 14.466], [11.52, 14.274], [13.28, 14.084] , [15.04, 13.956], [16.88 , 13.829]]\n",
    ",[[30,54.8], [0.1, 25.324], [0.955, 40.101], [2.820, 43.604], [4.63, 45.834], [6.500, 47.425], [8.315, 48.827], [10.193, 49.91], [12.000, 50.737], [13.900, 51.12], [15.70, 51.948], [17.50, 52.33]]\n",
    ",[[30,14.5], [0.1, 25.069], [0.955, 20.866], [2.820, 18.955], [4.63, 17.808], [6.525, 17.426], [8.300, 16.534], [10.200, 16.152], [12.024, 15.897], [13.915, 15.643], [15.7, 15.515], [17.550, 15.388]]\n",
    ",[[30,13.8], [0.1, 20.071], [0.88, 20.071], [2.72, 17.714], [4.48, 16.949], [6.42, 16.44], [8.00, 16.058], [9.76, 15.803] , [11.52, 15.548] , [13.28, 15.358], [15.04 , 15.166], [16.8, 15.039]]]\n",
    "\n",
    "label = []\n",
    "data_set = []\n",
    "for data in ls:\n",
    "    new = []\n",
    "    for i in range(len(data)):\n",
    "        if i == 0:\n",
    "            label.append(data[i][1])\n",
    "        else:\n",
    "            new.append(round(data[i][0] * data[i][1],2))\n",
    "    data_set.append(new)\n",
    "#print(\"Data sets: {}\".format(data_set))\n",
    "#print(\"labels : {}\".format(label))"
   ]
  },
  {
   "cell_type": "markdown",
   "metadata": {},
   "source": [
    "## Data Format\n",
    "\n",
    "The data collected will be be points found on the steady state temperature (label). As shown below, the green line shall represent temperature X and blue line shall represent temperature Y. X has unique time * temperature points as the time increases and so does Y. Using this uniqueness for each steady state temperature, we are going find the correlation for the first 11 (time x temperature) of each temperature using linear regression. The code below is used to show an example of the graph.\n"
   ]
  },
  {
   "cell_type": "code",
   "execution_count": 7,
   "metadata": {},
   "outputs": [
    {
     "data": {
      "image/png": "[encoded data removed]",
      "text/plain": [
       "<Figure size 432x288 with 1 Axes>"
      ]
     },
     "metadata": {},
     "output_type": "display_data"
    }
   ],
   "source": [
    "import matplotlib.pyplot as plt\n",
    "def temp1(x): \n",
    "    y = 23.04 +(9.28)*x + (-1.36)*(x**2) + (0.11)*(x**3) + (-0.0050)*(x**4) + (0.000114)*(x**5) \n",
    "    return y\n",
    "\n",
    "def temp2(x): \n",
    "    z = 32.24 + (-2.95)*x + (0.16)*(x**2) + (-0.0038)*(x**3) + (1.12E-05)*(x**4) + (8.40E-07)*(x**5) \n",
    "    return z\n",
    "\n",
    "x = [i for i in range(10)]\n",
    "y1 = [temp1(i) for i in x]\n",
    "y2 = [temp2(i) for i in x]\n",
    "\n",
    "plt.plot(x,y1, color = 'green')\n",
    "plt.plot(x,y2, color = 'blue')\n",
    "plt.show()"
   ]
  },
  {
   "cell_type": "markdown",
   "metadata": {},
   "source": [
    "# Training Model\n",
    "\n",
    "The model is trained by using scikit-learn Linear Regression model. This is done using 17 data points collected. The function will return the coefficients and intercept which can be used to predict temperature."
   ]
  },
  {
   "cell_type": "code",
   "execution_count": 6,
   "metadata": {},
   "outputs": [
    {
     "name": "stdout",
     "output_type": "stream",
     "text": [
      "(array([ 0.4115733 , -0.42685329, -0.29143602,  0.19531992,  0.18780706,\n",
      "        0.20453365, -0.13463903, -0.21820958, -0.08252079,  0.24181546,\n",
      "       -0.01333128]), -1.470558769632504)\n"
     ]
    }
   ],
   "source": [
    "from sklearn import linear_model \n",
    "import numpy as np\n",
    "\n",
    "def regression():\n",
    "    X = np.array(data_set)\n",
    "    Y = np.array(label)\n",
    "    \n",
    "    regr = linear_model.LinearRegression()\n",
    "    regr.fit(X, Y)\n",
    "    return regr.coef_,regr.intercept_\n",
    "\n",
    "print(regression())"
   ]
  },
  {
   "cell_type": "markdown",
   "metadata": {},
   "source": [
    "# Verification and Accuracy\n",
    "\n",
    "The model was then tested against 3 known water bath of different temperature that was not feed into the training. The result was appreciable predicted temperature of < 1.5 degree celcius difference.\n",
    "\n",
    "Analysis: Initially, the model was modelled after just the temperature, not (time x temperature). However, the prediction was not very accurate.The hypothesis was that the temperature taken was at different time interval for all the data and severely damange the accuracy of the model. As such, we have remodelled the model to the current one, which is regression for (time x temperature). This proves to be more accurate than the previous model. \n",
    "\n",
    "Steps to improve accuracy: Take more sample data over 10 degree celcius to 60 degree celcius to ensure that the training data covers most grounds for the model to correctly predict any given water bath temperature within the range. \n",
    "To improve the accuracy, we decided to add in more data sets to the training but found that the accuracy dropped as well. One such reason was that the model might be over-fitted and thus reduce the overall accuracy."
   ]
  },
  {
   "cell_type": "code",
   "execution_count": 30,
   "metadata": {},
   "outputs": [
    {
     "name": "stdout",
     "output_type": "stream",
     "text": [
      "Actual: [42.045, 49.625, 56.631]\n",
      "prediction: [41.01250286 48.29525195 57.59455541]\n",
      "Difference: [ 1.03249714  1.32974805 -0.96355541]\n"
     ]
    }
   ],
   "source": [
    "test = [[[30, 42.045], [0.1, 36.058], [0.88,36.759],[2.64, 37.778],[4.4, 38.415], [6.16, 38.988], [7.92, 39.37], [9.68, 39.752], [11.44, 40.007], [13.2, 40.261], [14.96, 40.516], [16.72, 40.644]]\n",
    ",[[30,49.625], [0.1, 37.077],[0.881, 38.988],[2.64, 41.535], [4.4, 43.064], [6.16, 44.147], [7.922, 45.039], [9.68, 45.739], [11.44, 46.313], [13.2, 46.758], [14.96, 47.14], [16.72, 47.459]]\n",
    ",[[30,56.631], [0.1, 25.294], [0.88, 36.122], [2.72,42.746], [4.48, 46.376], [6.24, 48.606], [8.0, 50.134], [9.76, 51.408], [11.52, 52.363], [13.28, 53.192], [15.04, 53.764], [16.8, 54.274]]]\n",
    "\n",
    "t_label = []\n",
    "t_data_set = []\n",
    "for data in test:\n",
    "    new = []\n",
    "    for i in range(len(data)):\n",
    "        if i == 0:\n",
    "            t_label.append(data[i][1])\n",
    "        else:\n",
    "            new.append(round(data[i][0] * data[i][1],2))\n",
    "    t_data_set.append(new)\n",
    "print(\"Actual: {}\".format(t_label))\n",
    "#print(t_data_set)\n",
    "\n",
    "from sklearn import linear_model \n",
    "import numpy as np\n",
    "from sklearn.metrics import accuracy_score\n",
    "\n",
    "def regression():\n",
    "    X = np.array(data_set)\n",
    "    Y = np.array(label)\n",
    "    \n",
    "    regr = linear_model.LinearRegression()\n",
    "    regr.fit(X, Y)\n",
    "    output = regr.predict(t_data_set)\n",
    "    #print(accuracy_score(output,t_label))\n",
    "    return output\n",
    "\n",
    "pred = regression()\n",
    "print(\"prediction: {}\".format(pred))\n",
    "print(\"Difference: {}\".format(np.subtract(t_label, pred)))"
   ]
  },
  {
   "cell_type": "markdown",
   "metadata": {},
   "source": [
    "# Testing Using Instructor's Data"
   ]
  },
  {
   "cell_type": "markdown",
   "metadata": {},
   "source": [
    "Instruction:\n",
    "\n",
    "* Store your trained model into a pickle object which can be loaded. \n",
    "* Read an excel file with the following format:\n",
    "```\n",
    "time (s)\treading\n",
    "0.00\t    25.812\n",
    "0.90\t    28.562\n",
    "1.79\t    31.875\n",
    "2.68\t    35.062\n",
    "3.55\t    37.937\n",
    "4.43\t    40.687\n",
    "5.30\t    43.25\n",
    "```\n",
    "where the first column indicates the time in seconds and the second column indicates the sensor reading in Celsius. \n",
    "* The number of rows in the instructors' data can be of any number. If your code has a minimum number of rows, your code must be able to handle and exit safely when the data provided is less than the required minimum.\n",
    "* Write a code to prepare the data for prediction.\n",
    "* Write a code to predict the final temperature.\n",
    "\n"
   ]
  },
  {
   "cell_type": "code",
   "execution_count": 4,
   "metadata": {},
   "outputs": [],
   "source": [
    "# write a code to load your trained model from a pickle object\n",
    "# no model saved in pickle , only saved as coefficients and intercept"
   ]
  },
  {
   "cell_type": "code",
   "execution_count": null,
   "metadata": {
    "collapsed": true
   },
   "outputs": [],
   "source": [
    "#Collect the first 11 data sets. To get ideal sets, choose the data that are closest to: 0s , 1s ,\n",
    "2.8s , 4.8s , 6.4s, 8.4s, 10.2s, 12s, 14s, 15.6s , 17.6s\n",
    "\n",
    "temp = [] # the 11 temperatures\n",
    "e_time = [] # the 11 timings\n",
    "with open(\"excelfile\",'r') as f:\n",
    "    for i in range(11):   \n",
    "        r = f.readline()\n",
    "        e_time.append(r[0])   # store the timing\n",
    "        temp.append(r[1])    # store the temperature\n",
    "\n",
    "\n",
    "\n",
    "# write a code to read an excel file\n",
    "import pandas as pd\n",
    "num_test = 9\n",
    "filename = 'temp_' \n",
    "filekey = [] # instructors will key in this\n",
    "dataframe = {} # this is to store the data for different temperature, the keys are in filekey\n",
    "for idx in range(num_test):\n",
    "    dataframe[filekey[idx]] = pd.read_excel(filename+filekey[idx]+'.xlsx')\n"
   ]
  },
  {
   "cell_type": "code",
   "execution_count": 1,
   "metadata": {},
   "outputs": [],
   "source": [
    "# write a code to prepare the data for training\n",
    "coeff = [ 0.4115733,-0.42685329,-0.29143602,0.19531992,0.18780706,0.20453365,\n",
    "          -0.13463903,-0.21820958,-0.08252079,0.24181546,-0.01333128]   # the coefficient\n",
    "total = -1.47055877  #the intercept"
   ]
  },
  {
   "cell_type": "code",
   "execution_count": 2,
   "metadata": {},
   "outputs": [
    {
     "ename": "IndexError",
     "evalue": "list index out of range",
     "output_type": "error",
     "traceback": [
      "\u001b[1;31m---------------------------------------------------------------------------\u001b[0m",
      "\u001b[1;31mIndexError\u001b[0m                                Traceback (most recent call last)",
      "\u001b[1;32m<ipython-input-2-4f73ed0e3cbe>\u001b[0m in \u001b[0;36m<module>\u001b[1;34m()\u001b[0m\n\u001b[0;32m      8\u001b[0m \u001b[1;33m\u001b[0m\u001b[0m\n\u001b[0;32m      9\u001b[0m \u001b[1;32mfor\u001b[0m \u001b[0mi\u001b[0m \u001b[1;32min\u001b[0m \u001b[0mrange\u001b[0m\u001b[1;33m(\u001b[0m\u001b[1;36m11\u001b[0m\u001b[1;33m)\u001b[0m\u001b[1;33m:\u001b[0m\u001b[1;33m\u001b[0m\u001b[0m\n\u001b[1;32m---> 10\u001b[1;33m     \u001b[0my\u001b[0m \u001b[1;33m=\u001b[0m \u001b[0mtemp_\u001b[0m\u001b[1;33m[\u001b[0m\u001b[0mi\u001b[0m\u001b[1;33m]\u001b[0m \u001b[1;33m*\u001b[0m \u001b[0mcoeff\u001b[0m\u001b[1;33m[\u001b[0m\u001b[0mi\u001b[0m\u001b[1;33m]\u001b[0m \u001b[1;33m*\u001b[0m \u001b[0me_time\u001b[0m\u001b[1;33m[\u001b[0m\u001b[0mi\u001b[0m\u001b[1;33m]\u001b[0m\u001b[1;33m\u001b[0m\u001b[0m\n\u001b[0m\u001b[0;32m     11\u001b[0m     \u001b[0mself\u001b[0m\u001b[1;33m.\u001b[0m\u001b[0mtotal\u001b[0m \u001b[1;33m+=\u001b[0m \u001b[0mround\u001b[0m\u001b[1;33m(\u001b[0m\u001b[0my\u001b[0m\u001b[1;33m,\u001b[0m\u001b[1;36m1\u001b[0m\u001b[1;33m)\u001b[0m\u001b[1;33m\u001b[0m\u001b[0m\n\u001b[0;32m     12\u001b[0m \u001b[0mpredcited\u001b[0m\u001b[1;33m[\u001b[0m\u001b[1;34m'key'\u001b[0m\u001b[1;33m]\u001b[0m \u001b[1;33m=\u001b[0m \u001b[0mtotal\u001b[0m\u001b[1;33m\u001b[0m\u001b[0m\n",
      "\u001b[1;31mIndexError\u001b[0m: list index out of range"
     ]
    }
   ],
   "source": [
    "# write a code to predict the final temperature\n",
    "# store the predicted temperature in a variable called \"predicted\"\n",
    "# predicted is a dictionary where the keys are listed in filekey\n",
    "predicted = {}\n",
    "\n",
    "\n",
    "for i in range(11):\n",
    "    y = temp_[i] * coeff[i] * e_time[i]\n",
    "    self.total += round(y,1)\n",
    "    \n",
    "predicted.update({'key': total})\n"
   ]
  },
  {
   "cell_type": "code",
   "execution_count": null,
   "metadata": {
    "collapsed": true
   },
   "outputs": [],
   "source": [
    "# checking accuracy\n",
    "\n",
    "# first instructor will load the actual temp from a pickle object\n",
    "import pickle\n",
    "error_d = {}\n",
    "accuracy_percent_d = {}\n",
    "\n",
    "for test in range(num_test):\n",
    "    filename = 'data_'+filekey[test]+'.pickle'\n",
    "    with open(filename,'rb') as f:\n",
    "        final_temp, worst_temp = pickle.load(f)\n",
    "\n",
    "    # then calculate the error\n",
    "    error_final = abs(final_temp-predicted[filekey[test]])\n",
    "    accuracy_final_percent = 100-error_final/final_temp*100\n",
    "    error_worst = abs(worst_temp-predicted[filekey[test]])\n",
    "    accuracy_worst_percent = 100-error_worst/worst_temp*100\n",
    "    \n",
    "    error_d[filekey[test]] = (error_final, error_worst)\n",
    "    accuracy_percent_d[filekey[test]] = (accuracy_final_percent, accuracy_worst_percent)\n",
    "\n",
    "    # displaying the error\n",
    "    print('===================================')\n",
    "    print('Testing: {}'.format(filekey[test]))\n",
    "    print('Predicted Temp: {:.2f}'.format(predicted[filekey[test]]))\n",
    "    print('Final Sensor Temp: {:.2f}, Alcohol Temp:{:.2f}'.format(final_temp, worst_temp))\n",
    "    print('Error w.r.t Final Sensor Temp: {:.2f} deg, {:.2f}% accuracy'.format(error_final, accuracy_final_percent))\n",
    "    print('Error w.r.t Alcohol Temp: {:.2f} deg, {:.2f}% accuracy'.format(error_worst, accuracy_worst_percent))\n",
    "    \n",
    "avg_final = sum([ final for final, worst in accuracy_percent_d.values()])/len(error_d.values())\n",
    "avg_worst = sum([ worst for final, worst in accuracy_percent_d.values()])/len(error_d.values())\n",
    "print('==============================')\n",
    "print('Average accuracy for final sensor temp: {:.2f}'.format(avg_final))\n",
    "print('AVerage accuracy for alcohol temp: {:.2f}'.format(avg_worst))\n"
   ]
  }
 ],
 "metadata": {
  "kernelspec": {
   "display_name": "Python 3",
   "language": "python",
   "name": "python3"
  },
  "language_info": {
   "codemirror_mode": {
    "name": "ipython",
    "version": 3
   },
   "file_extension": ".py",
   "mimetype": "text/x-python",
   "name": "python",
   "nbconvert_exporter": "python",
   "pygments_lexer": "ipython3",
   "version": "3.6.4"
  }
 },
 "nbformat": 4,
 "nbformat_minor": 2
}
